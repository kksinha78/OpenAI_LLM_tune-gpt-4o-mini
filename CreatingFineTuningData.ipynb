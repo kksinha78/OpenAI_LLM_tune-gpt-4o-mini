{
 "cells": [
  {
   "cell_type": "code",
   "execution_count": 13,
   "id": "d01994c2-b1a2-440c-a21b-36b39cf27b8d",
   "metadata": {},
   "outputs": [],
   "source": [
    "import pandas as pd\n",
    "import json"
   ]
  },
  {
   "cell_type": "code",
   "execution_count": 14,
   "id": "4b5e557a-12d5-40a9-8a1f-f9b04f8ad144",
   "metadata": {},
   "outputs": [],
   "source": [
    "#medical_reports = pd.read_csv('reports_kk_smaller.csv')\n",
    "medical_reports = pd.read_csv('reports.csv') # this is domaon specific dataset exaplme which is not axactly available on internet."
   ]
  },
  {
   "cell_type": "code",
   "execution_count": 15,
   "id": "64321a64-a6e5-4765-b23c-99453d5b6ce9",
   "metadata": {},
   "outputs": [
    {
     "data": {
      "text/html": [
       "<div>\n",
       "<style scoped>\n",
       "    .dataframe tbody tr th:only-of-type {\n",
       "        vertical-align: middle;\n",
       "    }\n",
       "\n",
       "    .dataframe tbody tr th {\n",
       "        vertical-align: top;\n",
       "    }\n",
       "\n",
       "    .dataframe thead th {\n",
       "        text-align: right;\n",
       "    }\n",
       "</style>\n",
       "<table border=\"1\" class=\"dataframe\">\n",
       "  <thead>\n",
       "    <tr style=\"text-align: right;\">\n",
       "      <th></th>\n",
       "      <th>medical_specialty</th>\n",
       "      <th>report</th>\n",
       "    </tr>\n",
       "  </thead>\n",
       "  <tbody>\n",
       "    <tr>\n",
       "      <th>0</th>\n",
       "      <td>Cardiovascular / Pulmonary</td>\n",
       "      <td>2-D M-MODE: , ,1.  Left atrial enlargement wit...</td>\n",
       "    </tr>\n",
       "    <tr>\n",
       "      <th>1</th>\n",
       "      <td>Cardiovascular / Pulmonary</td>\n",
       "      <td>1.  The left ventricular cavity size and wall ...</td>\n",
       "    </tr>\n",
       "    <tr>\n",
       "      <th>2</th>\n",
       "      <td>Cardiovascular / Pulmonary</td>\n",
       "      <td>2-D ECHOCARDIOGRAM,Multiple views of the heart...</td>\n",
       "    </tr>\n",
       "    <tr>\n",
       "      <th>3</th>\n",
       "      <td>Cardiovascular / Pulmonary</td>\n",
       "      <td>DESCRIPTION:,1.  Normal cardiac chambers size....</td>\n",
       "    </tr>\n",
       "    <tr>\n",
       "      <th>4</th>\n",
       "      <td>Cardiovascular / Pulmonary</td>\n",
       "      <td>2-D STUDY,1. Mild aortic stenosis, widely calc...</td>\n",
       "    </tr>\n",
       "  </tbody>\n",
       "</table>\n",
       "</div>"
      ],
      "text/plain": [
       "            medical_specialty  \\\n",
       "0  Cardiovascular / Pulmonary   \n",
       "1  Cardiovascular / Pulmonary   \n",
       "2  Cardiovascular / Pulmonary   \n",
       "3  Cardiovascular / Pulmonary   \n",
       "4  Cardiovascular / Pulmonary   \n",
       "\n",
       "                                              report  \n",
       "0  2-D M-MODE: , ,1.  Left atrial enlargement wit...  \n",
       "1  1.  The left ventricular cavity size and wall ...  \n",
       "2  2-D ECHOCARDIOGRAM,Multiple views of the heart...  \n",
       "3  DESCRIPTION:,1.  Normal cardiac chambers size....  \n",
       "4  2-D STUDY,1. Mild aortic stenosis, widely calc...  "
      ]
     },
     "execution_count": 15,
     "metadata": {},
     "output_type": "execute_result"
    }
   ],
   "source": [
    "medical_reports.head()"
   ]
  },
  {
   "cell_type": "markdown",
   "id": "a4b58a46-9b2b-4214-a618-6ec45f68695d",
   "metadata": {},
   "source": [
    "# Data processing"
   ]
  },
  {
   "cell_type": "code",
   "execution_count": 16,
   "id": "38de0e84-e5fa-4c7c-8bde-6cf514b09076",
   "metadata": {},
   "outputs": [
    {
     "data": {
      "text/plain": [
       "medical_specialty    0\n",
       "report               0\n",
       "dtype: int64"
      ]
     },
     "execution_count": 16,
     "metadata": {},
     "output_type": "execute_result"
    }
   ],
   "source": [
    "## checking missing data\n",
    "medical_reports.isna().sum()"
   ]
  },
  {
   "cell_type": "code",
   "execution_count": 18,
   "id": "d5446d11-e419-4507-a488-8af228d63a27",
   "metadata": {},
   "outputs": [],
   "source": [
    "# sequence of fine tuning\n",
    "# TRAIN --> VALIDATE --> FINAL TEST"
   ]
  },
  {
   "cell_type": "code",
   "execution_count": 19,
   "id": "ec670c7e-6ea4-43c0-9280-ebd1ba1ccf03",
   "metadata": {},
   "outputs": [
    {
     "name": "stdout",
     "output_type": "stream",
     "text": [
      "<class 'pandas.core.frame.DataFrame'>\n",
      "RangeIndex: 2179 entries, 0 to 2178\n",
      "Data columns (total 2 columns):\n",
      " #   Column             Non-Null Count  Dtype \n",
      "---  ------             --------------  ----- \n",
      " 0   medical_specialty  2179 non-null   object\n",
      " 1   report             2179 non-null   object\n",
      "dtypes: object(2)\n",
      "memory usage: 34.2+ KB\n"
     ]
    }
   ],
   "source": [
    "medical_reports.info()"
   ]
  },
  {
   "cell_type": "code",
   "execution_count": 20,
   "id": "9014fb37-dfdc-4082-a3c8-f79085a19d93",
   "metadata": {},
   "outputs": [
    {
     "data": {
      "text/html": [
       "<div>\n",
       "<style scoped>\n",
       "    .dataframe tbody tr th:only-of-type {\n",
       "        vertical-align: middle;\n",
       "    }\n",
       "\n",
       "    .dataframe tbody tr th {\n",
       "        vertical-align: top;\n",
       "    }\n",
       "\n",
       "    .dataframe thead th {\n",
       "        text-align: right;\n",
       "    }\n",
       "</style>\n",
       "<table border=\"1\" class=\"dataframe\">\n",
       "  <thead>\n",
       "    <tr style=\"text-align: right;\">\n",
       "      <th></th>\n",
       "      <th>report</th>\n",
       "    </tr>\n",
       "    <tr>\n",
       "      <th>medical_specialty</th>\n",
       "      <th></th>\n",
       "    </tr>\n",
       "  </thead>\n",
       "  <tbody>\n",
       "    <tr>\n",
       "      <th>Cardiovascular / Pulmonary</th>\n",
       "      <td>371</td>\n",
       "    </tr>\n",
       "    <tr>\n",
       "      <th>Gastroenterology</th>\n",
       "      <td>224</td>\n",
       "    </tr>\n",
       "    <tr>\n",
       "      <th>Neurology</th>\n",
       "      <td>223</td>\n",
       "    </tr>\n",
       "    <tr>\n",
       "      <th>Radiology</th>\n",
       "      <td>273</td>\n",
       "    </tr>\n",
       "    <tr>\n",
       "      <th>Surgery</th>\n",
       "      <td>1088</td>\n",
       "    </tr>\n",
       "  </tbody>\n",
       "</table>\n",
       "</div>"
      ],
      "text/plain": [
       "                            report\n",
       "medical_specialty                 \n",
       "Cardiovascular / Pulmonary     371\n",
       "Gastroenterology               224\n",
       "Neurology                      223\n",
       "Radiology                      273\n",
       "Surgery                       1088"
      ]
     },
     "execution_count": 20,
     "metadata": {},
     "output_type": "execute_result"
    }
   ],
   "source": [
    "medical_reports.groupby('medical_specialty').count()"
   ]
  },
  {
   "cell_type": "code",
   "execution_count": 21,
   "id": "0f2804ac-4cf5-46f7-8721-6a640a5fad65",
   "metadata": {},
   "outputs": [],
   "source": [
    "medical_reports = medical_reports.dropna(subset=['report']) # drop any missing data"
   ]
  },
  {
   "cell_type": "code",
   "execution_count": 22,
   "id": "3246863a-21e8-4eb0-9473-3d7393eed185",
   "metadata": {},
   "outputs": [
    {
     "data": {
      "text/plain": [
       "medical_specialty\n",
       "Surgery                       1088\n",
       "Cardiovascular / Pulmonary     371\n",
       "Radiology                      273\n",
       "Gastroenterology               224\n",
       "Neurology                      223\n",
       "Name: count, dtype: int64"
      ]
     },
     "execution_count": 22,
     "metadata": {},
     "output_type": "execute_result"
    }
   ],
   "source": [
    "medical_reports.medical_specialty.value_counts()"
   ]
  },
  {
   "cell_type": "code",
   "execution_count": 23,
   "id": "106fffd8-702c-461c-bc76-23a1bf04d96c",
   "metadata": {},
   "outputs": [
    {
     "data": {
      "text/plain": [
       "medical_specialty\n",
       "Cardiovascular / Pulmonary    15\n",
       "Gastroenterology              15\n",
       "Neurology                     15\n",
       "Radiology                     15\n",
       "Surgery                       15\n",
       "Name: count, dtype: int64"
      ]
     },
     "execution_count": 23,
     "metadata": {},
     "output_type": "execute_result"
    }
   ],
   "source": [
    "#take a small df to fine tune to save money.longer dataset will cost more credit point\n",
    "groupedData = medical_reports.groupby('medical_specialty').sample(15,random_state = 42) # Sample 10 items from each class\n",
    "\n",
    "groupedData['medical_specialty'].value_counts()"
   ]
  },
  {
   "cell_type": "code",
   "execution_count": 24,
   "id": "671c5ad2-fb78-4f38-9e21-e66bf780dc98",
   "metadata": {},
   "outputs": [],
   "source": [
    "# we have now 10 items of each category.lets take , 6 for traing and 2 for validation and 2 for test\n"
   ]
  },
  {
   "cell_type": "code",
   "execution_count": 25,
   "id": "4a533bed-c18a-417e-9a66-a96c01a26805",
   "metadata": {},
   "outputs": [],
   "source": [
    "val_test_data = groupedData.groupby('medical_specialty').sample(4,random_state=42) # sample 4 items from the above data"
   ]
  },
  {
   "cell_type": "code",
   "execution_count": 26,
   "id": "1ff2d32d-9c83-4c93-be93-1b863d8c266a",
   "metadata": {},
   "outputs": [],
   "source": [
    "val = val_test_data.groupby('medical_specialty').head(2) # Take the first 2 of each class\n",
    "test = val_test_data.groupby('medical_specialty').tail(2) # Take the first 2 of each class\n",
    "\n",
    "train = groupedData[~groupedData.index.isin(val_test_data.index)] # Take the remaining ones for training"
   ]
  },
  {
   "cell_type": "code",
   "execution_count": 27,
   "id": "a291fb57-2e25-4a5c-b42d-5ea7be9303b3",
   "metadata": {},
   "outputs": [
    {
     "data": {
      "text/plain": [
       "20"
      ]
     },
     "execution_count": 27,
     "metadata": {},
     "output_type": "execute_result"
    }
   ],
   "source": [
    "len(val_test_data)"
   ]
  },
  {
   "cell_type": "code",
   "execution_count": 16,
   "id": "32c22784-121f-4edc-9c3e-10fc7d95f035",
   "metadata": {},
   "outputs": [
    {
     "data": {
      "text/plain": [
       "55"
      ]
     },
     "execution_count": 16,
     "metadata": {},
     "output_type": "execute_result"
    }
   ],
   "source": [
    "len(train)"
   ]
  },
  {
   "cell_type": "code",
   "execution_count": 17,
   "id": "89b306ac-3733-4bef-9575-298fb4fec6cc",
   "metadata": {},
   "outputs": [],
   "source": [
    "# Statistical analysis of custum dataframe"
   ]
  },
  {
   "cell_type": "code",
   "execution_count": 18,
   "id": "1bd3a7a3-93ff-4f70-bdbf-d5657ef07c69",
   "metadata": {},
   "outputs": [],
   "source": [
    "# https://github.com/openai/tiktoken "
   ]
  },
  {
   "cell_type": "code",
   "execution_count": 19,
   "id": "9ee62ea9-7e34-483c-bba2-ea2d9cbf36a4",
   "metadata": {},
   "outputs": [],
   "source": [
    "# !pip install tiktoken"
   ]
  },
  {
   "cell_type": "code",
   "execution_count": 20,
   "id": "15bca06c-5dd2-49af-a86e-fdba53ee650b",
   "metadata": {},
   "outputs": [],
   "source": [
    "#lest count number of tokens the model will generate to know pricing of finetuning before fed data into LLM\n",
    "import tiktoken\n"
   ]
  },
  {
   "cell_type": "code",
   "execution_count": 21,
   "id": "0ca666cc-f26c-4c69-9388-ff2d2984eaf0",
   "metadata": {},
   "outputs": [],
   "source": [
    "# enc = tiktoken.get_encoding(\"o200k_base\") # \"o200k_base\" enconding is mostly used in gpt llms"
   ]
  },
  {
   "cell_type": "code",
   "execution_count": 22,
   "id": "fd29e950-30e8-4231-add9-ebff20ae980e",
   "metadata": {},
   "outputs": [],
   "source": [
    "def num_tokens(string):\n",
    "    encoding = tiktoken.get_encoding(\"cl100k_base\") # \"o200k_base\" enconding is mostly used in gpt llms\n",
    "    return len(encoding.encode(string))\n",
    "    \n",
    "    "
   ]
  },
  {
   "cell_type": "code",
   "execution_count": 23,
   "id": "682a93a1-de3c-4a71-857e-119fb5269271",
   "metadata": {},
   "outputs": [
    {
     "data": {
      "text/plain": [
       "1"
      ]
     },
     "execution_count": 23,
     "metadata": {},
     "output_type": "execute_result"
    }
   ],
   "source": [
    "num_tokens(\"Hello\")"
   ]
  },
  {
   "cell_type": "code",
   "execution_count": 24,
   "id": "eb00393b-acde-4a58-8247-8f8daca8675e",
   "metadata": {},
   "outputs": [],
   "source": [
    "#lets calculate number of tokens in our database\n",
    "report_token_lenghts = train['report'].apply(num_tokens) # groupedData is the traing data here"
   ]
  },
  {
   "cell_type": "code",
   "execution_count": 25,
   "id": "2a3f91d8-44e5-4328-ab03-48c8f71164be",
   "metadata": {},
   "outputs": [
    {
     "data": {
      "text/plain": [
       "count      55.000000\n",
       "mean      641.781818\n",
       "std       471.768685\n",
       "min        14.000000\n",
       "25%       265.000000\n",
       "50%       542.000000\n",
       "75%       888.500000\n",
       "max      2362.000000\n",
       "Name: report, dtype: float64"
      ]
     },
     "execution_count": 25,
     "metadata": {},
     "output_type": "execute_result"
    }
   ],
   "source": [
    "report_token_lenghts.describe()"
   ]
  },
  {
   "cell_type": "code",
   "execution_count": 26,
   "id": "0851d892-4304-475a-9455-1a1459543417",
   "metadata": {},
   "outputs": [
    {
     "data": {
      "text/plain": [
       "1841     770\n",
       "1823     232\n",
       "2122     806\n",
       "1865     208\n",
       "2047     260\n",
       "1884     531\n",
       "1927    1502\n",
       "2113    1307\n",
       "2041     185\n",
       "1961     413\n",
       "1963     306\n",
       "1616    1551\n",
       "1666     730\n",
       "1668      25\n",
       "1772     352\n",
       "1760     820\n",
       "1600     324\n",
       "1721    1597\n",
       "1676    1414\n",
       "1631      14\n",
       "1800     285\n",
       "1645     381\n",
       "1499     593\n",
       "1472     887\n",
       "1495    1189\n",
       "1430     626\n",
       "1587     832\n",
       "1441    1103\n",
       "1504     274\n",
       "1459     484\n",
       "1585     673\n",
       "1433     179\n",
       "1580     542\n",
       "1151     161\n",
       "1367     177\n",
       "1247     519\n",
       "1181     390\n",
       "1293     149\n",
       "1198     270\n",
       "1355    1061\n",
       "1350    1065\n",
       "1234     214\n",
       "1235     243\n",
       "1110     126\n",
       "1067    1030\n",
       "144      514\n",
       "771      713\n",
       "941      634\n",
       "940     2362\n",
       "780      709\n",
       "705      891\n",
       "209      890\n",
       "406      594\n",
       "1060     944\n",
       "116      247\n",
       "Name: report, dtype: int64"
      ]
     },
     "execution_count": 26,
     "metadata": {},
     "output_type": "execute_result"
    }
   ],
   "source": [
    "report_token_lenghts"
   ]
  },
  {
   "cell_type": "code",
   "execution_count": 27,
   "id": "35e99ec2-1d44-4b24-8ea6-e67c459c10d5",
   "metadata": {},
   "outputs": [
    {
     "data": {
      "text/plain": [
       "35298"
      ]
     },
     "execution_count": 27,
     "metadata": {},
     "output_type": "execute_result"
    }
   ],
   "source": [
    "sumOfTokens = report_token_lenghts.sum()\n",
    "sumOfTokens"
   ]
  },
  {
   "cell_type": "code",
   "execution_count": 28,
   "id": "c3c504db-20ec-4309-9472-087819071225",
   "metadata": {},
   "outputs": [],
   "source": [
    "#lets calculate model price\n",
    "price_model = 0.00030\n",
    "total_price_per_epoch = price_model*sumOfTokens\n"
   ]
  },
  {
   "cell_type": "code",
   "execution_count": 29,
   "id": "42c03a97-ad70-407c-ba4f-fc79363470bc",
   "metadata": {},
   "outputs": [
    {
     "data": {
      "text/plain": [
       "0.8683308"
      ]
     },
     "execution_count": 29,
     "metadata": {},
     "output_type": "execute_result"
    }
   ],
   "source": [
    "total_priceinINR = total_price_per_epoch*82 /1000 # since price is per 1000 token\n",
    "total_priceinINR"
   ]
  },
  {
   "cell_type": "markdown",
   "id": "3ce936d0-9802-4101-bee2-a4f94b8d9126",
   "metadata": {},
   "source": [
    "# Data formatting"
   ]
  },
  {
   "cell_type": "code",
   "execution_count": 30,
   "id": "04da4882-0e30-4074-a8b3-f35736d75ff8",
   "metadata": {},
   "outputs": [],
   "source": [
    "#System prompt\n",
    "#user-report\n",
    "#assistant-medical_specility\n",
    "# we want our model to give medical_specility based on report given"
   ]
  },
  {
   "cell_type": "code",
   "execution_count": 31,
   "id": "9ac2851b-abd7-4fdb-ab33-97da3818c9dd",
   "metadata": {},
   "outputs": [
    {
     "name": "stdout",
     "output_type": "stream",
     "text": [
      "['Cardiovascular / Pulmonary' 'Gastroenterology' 'Neurology' 'Radiology'\n",
      " 'Surgery']\n"
     ]
    }
   ],
   "source": [
    "print(train['medical_specialty'].unique())"
   ]
  },
  {
   "cell_type": "code",
   "execution_count": 32,
   "id": "2e0147b6-ebbf-4e2e-ae68-9ed6f7f29bca",
   "metadata": {},
   "outputs": [],
   "source": [
    "system_prompt = \"Given the medical description report, classify it into one of these categories: Cardiovascular / Pulmonary, Gastroenterology, Neurology, Radiology,Surgery\""
   ]
  },
  {
   "cell_type": "code",
   "execution_count": 33,
   "id": "f52027ab-56f2-42b1-9008-dbd65dd33bb2",
   "metadata": {},
   "outputs": [
    {
     "name": "stdout",
     "output_type": "stream",
     "text": [
      "Given the medical description report, classify it into one of these categories: Cardiovascular / Pulmonary, Gastroenterology, Neurology, Radiology,Surgery\n"
     ]
    }
   ],
   "source": [
    "print(system_prompt)"
   ]
  },
  {
   "cell_type": "code",
   "execution_count": 34,
   "id": "cc8d1e7b-37d1-4167-8353-939a4c1c843f",
   "metadata": {},
   "outputs": [],
   "source": [
    "#example of sample prompt\n",
    "sample_prompt = {\"message\" : [{'role':'system','content':system_prompt},\n",
    "                              {'role':'user','content':train['report'].iloc[0]},\n",
    "                              {'role':'assistant','content':train['medical_specialty'].iloc[0]}]}"
   ]
  },
  {
   "cell_type": "code",
   "execution_count": 35,
   "id": "f55548a4-5521-43e4-ae23-e1cec42b5ceb",
   "metadata": {},
   "outputs": [],
   "source": [
    "#sample_prompt['message'][1]['content']"
   ]
  },
  {
   "cell_type": "code",
   "execution_count": 36,
   "id": "94acd1d5-3f8f-4dbb-82ba-59c503d98ff4",
   "metadata": {},
   "outputs": [
    {
     "name": "stdout",
     "output_type": "stream",
     "text": [
      "{'message': [{'role': 'system', 'content': 'Given the medical description report, classify it into one of these categories: Cardiovascular / Pulmonary, Gastroenterology, Neurology, Radiology,Surgery'}, {'role': 'user', 'content': 'PREOPERATIVE DIAGNOSES:,1.  Non-small-cell carcinoma of the left upper lobe.,2.  History of lymphoma in remission.,POSTOPERATIVE DIAGNOSES:,1.  Non-small-cell carcinoma of the left upper lobe.,2.  History of lymphoma in remission.,PROCEDURE: , Left muscle sparing mini thoracotomy with left upper lobectomy and mediastinal lymph node dissection.  Intercostal nerve block for postoperative pain relief at five levels.,INDICATIONS FOR THE PROCEDURE: , This is an 84-year-old lady who was referred by Dr. A for treatment of her left upper lobe carcinoma.  The patient has a history of lymphoma and is in remission.  An enlarged right axillary lymph node was biopsied recently and was negative for lymphoma.  A mass in the left upper lobe was biopsied with fine-needle aspiration and shown to be a primary non-small-cell carcinoma of the lung.  PET scan was, otherwise, negative for spread and resection was advised.  All the risk and benefits were fully explained to the patient and she elected to proceed as planned.  She was transferred to rehab for couple of weeks to buildup strength before the surgery.,PROCEDURE IN DETAIL:,  In the operating room under anesthesia, she was prepped and draped suitably.  Dr. B was the staff anesthesiologist.  Left muscle sparing mini thoracotomy was made.  The serratus and latissimus muscles were not cut but moved out to the way.  Access to the chest was obtained through the fifth intercostal space.  Two Tuffier retractors of right angles provided adequate exposure.,The inferior pulmonary ligament was not dissected free and lymph nodes from the station 9 were now sent for pathology.  The parietal pleural reflexion around the hilum was now circumcised, and lymph nodes were taken from station 8 and station 5.,The branches of the pulmonary artery to the upper lobe were now individually stapled with a 30/2.5 staple gun or/and the smaller one were ligated with 2-0 silk.  The left superior pulmonary vein was transected using a TA30/2.5 staple gun, and the fissure was completed using firings of an endo-GIA 60/4.8 staple gun.  Finally, the left upper lobe bronchus was transected using a TA30/4.8 staple gun.  Please note, that this patient had been somewhat unusual variant of a small bronchus that was coming out posterior to the main trunk of the pulmonary artery and supplying a small section of the posterior portion of the left upper lobe.,The specimen was delivered and sent to pathology.  The mass was clearly palpable in the upper portion of the lingular portion of this left upper lobe.  Frozen section showed that the margin was negative.,The chest was irrigated with warm sterile water and when the left lower lobe inflated, there was no air leak.  A single 32-French chest tube was inserted, and intercostal block was done with Marcaine infiltrated two spaces above and two spaces below thus achieving a block at five levels 30 mL of Marcaine was used all together.  A #2 Vicryl pericostal sutures were now applied.  The serratus and latissimus muscles retracted back in place.  A #19 French Blake drain placed in the subcutaneous tissues and 2-0 Vicryl used for the fat followed by 4-0 Monocryl for the skin.  The patient was transferred to the ICU in a stable condition.'}, {'role': 'assistant', 'content': 'Cardiovascular / Pulmonary'}]}\n"
     ]
    }
   ],
   "source": [
    "print(sample_prompt)"
   ]
  },
  {
   "cell_type": "markdown",
   "id": "db0c7345-6f5f-4b84-b32e-76f6b864e8c8",
   "metadata": {},
   "source": [
    "Lets prepare prompt for complete data"
   ]
  },
  {
   "cell_type": "code",
   "execution_count": 37,
   "id": "40c7f3e3-0f88-4f4f-8c26-e48a4dca5229",
   "metadata": {},
   "outputs": [
    {
     "data": {
      "text/html": [
       "<div>\n",
       "<style scoped>\n",
       "    .dataframe tbody tr th:only-of-type {\n",
       "        vertical-align: middle;\n",
       "    }\n",
       "\n",
       "    .dataframe tbody tr th {\n",
       "        vertical-align: top;\n",
       "    }\n",
       "\n",
       "    .dataframe thead th {\n",
       "        text-align: right;\n",
       "    }\n",
       "</style>\n",
       "<table border=\"1\" class=\"dataframe\">\n",
       "  <thead>\n",
       "    <tr style=\"text-align: right;\">\n",
       "      <th></th>\n",
       "      <th>medical_specialty</th>\n",
       "      <th>report</th>\n",
       "    </tr>\n",
       "  </thead>\n",
       "  <tbody>\n",
       "    <tr>\n",
       "      <th>1841</th>\n",
       "      <td>Cardiovascular / Pulmonary</td>\n",
       "      <td>PREOPERATIVE DIAGNOSES:,1.  Non-small-cell car...</td>\n",
       "    </tr>\n",
       "    <tr>\n",
       "      <th>1823</th>\n",
       "      <td>Cardiovascular / Pulmonary</td>\n",
       "      <td>PROCEDURE: , Urgent cardiac catheterization wi...</td>\n",
       "    </tr>\n",
       "  </tbody>\n",
       "</table>\n",
       "</div>"
      ],
      "text/plain": [
       "               medical_specialty  \\\n",
       "1841  Cardiovascular / Pulmonary   \n",
       "1823  Cardiovascular / Pulmonary   \n",
       "\n",
       "                                                 report  \n",
       "1841  PREOPERATIVE DIAGNOSES:,1.  Non-small-cell car...  \n",
       "1823  PROCEDURE: , Urgent cardiac catheterization wi...  "
      ]
     },
     "execution_count": 37,
     "metadata": {},
     "output_type": "execute_result"
    }
   ],
   "source": [
    "train.head(2)"
   ]
  },
  {
   "cell_type": "code",
   "execution_count": 38,
   "id": "19241323-e3d8-457f-ba5d-cf90395a76e5",
   "metadata": {},
   "outputs": [],
   "source": [
    "def df_to_format(df):\n",
    "    formatted_data = []\n",
    "    for index,row in df.iterrows():\n",
    "        prompt = {\"messages\" : [{'role' : 'system','content':system_prompt},\n",
    "                               {'role':'user','content':row['report']},\n",
    "                               {'role':'assistant','content':row['medical_specialty']}]}\n",
    "        formatted_data.append(prompt)\n",
    "    return formatted_data \n",
    "        "
   ]
  },
  {
   "cell_type": "code",
   "execution_count": 39,
   "id": "c7cadea9-2b81-44ff-ae08-6e93ec524a8b",
   "metadata": {},
   "outputs": [],
   "source": [
    "data = df_to_format(train) # finction call for entire training data"
   ]
  },
  {
   "cell_type": "code",
   "execution_count": 40,
   "id": "e6ea457a-afc4-49bc-8381-4b8f87438d71",
   "metadata": {},
   "outputs": [
    {
     "data": {
      "text/plain": [
       "{'messages': [{'role': 'system',\n",
       "   'content': 'Given the medical description report, classify it into one of these categories: Cardiovascular / Pulmonary, Gastroenterology, Neurology, Radiology,Surgery'},\n",
       "  {'role': 'user',\n",
       "   'content': 'PREOPERATIVE DIAGNOSIS: ,  Hematemesis in a patient with longstanding diabetes. ,POSTOPERATIVE DIAGNOSIS:  ,Mallory-Weiss tear, submucosal hemorrhage consistent with trauma from vomiting and grade 2 esophagitis.,PROCEDURE:  , The procedure, indications explained and he understood and agreed.  He was sedated with Versed 3, Demerol 25 and topical Hurricane spray to the oropharynx.  A bite block was placed.  The Pentax video gastroscope was advanced through the oropharynx into the esophagus under direct vision.  Esophagus revealed distal ulcerations.  Additionally, the patient had a Mallory-Weiss tear.  This was subjected to bicap cautery with good ablation.  The stomach was entered, which revealed areas of submucosal hemorrhage consistent with trauma from vomiting.  There were no ulcerations or erosions in the stomach.  The duodenum was entered, which was unremarkable.  The instrument was then removed.  The patient tolerated the procedure well with no complications.,IMPRESSION: , Mallory-Weiss tear, successful BICAP cautery. ,We will keep the patient on proton pump inhibitors.  The patient will remain on antiemetics and be started on a clear liquid diet.'},\n",
       "  {'role': 'assistant', 'content': 'Gastroenterology'}]}"
      ]
     },
     "execution_count": 40,
     "metadata": {},
     "output_type": "execute_result"
    }
   ],
   "source": [
    "data[20] # one random sample eg index 20"
   ]
  },
  {
   "cell_type": "code",
   "execution_count": 41,
   "id": "83c75993-bc64-4e62-8fd1-d237e894bc10",
   "metadata": {},
   "outputs": [],
   "source": [
    "# lets dump these list of dictionary into json file to fed into llm"
   ]
  },
  {
   "cell_type": "code",
   "execution_count": 42,
   "id": "f3255dc4-5ccb-4750-98b8-6a2ee1a90c76",
   "metadata": {},
   "outputs": [],
   "source": [
    "with open('fine_tuning_data.jsonl','w') as f:\n",
    "    for i in data:\n",
    "        f.write(json.dumps(i))\n",
    "        f.write(\"\\n\")"
   ]
  },
  {
   "cell_type": "code",
   "execution_count": 43,
   "id": "5f895272-fc88-42f8-b23c-73160715ecf7",
   "metadata": {},
   "outputs": [],
   "source": [
    "#### Lets do the same for validation data\n",
    "val_data = df_to_format(val)  # finction call for entire validation data\n",
    "with open('fine_tuning_Val_data.jsonl','w') as f:\n",
    "    for i in data:\n",
    "        f.write(json.dumps(i))\n",
    "        f.write(\"\\n\")"
   ]
  },
  {
   "cell_type": "code",
   "execution_count": 44,
   "id": "e2dbd46f-0472-4bb8-a07f-cf48424e9d8b",
   "metadata": {},
   "outputs": [],
   "source": [
    "# tuning llm"
   ]
  },
  {
   "cell_type": "code",
   "execution_count": 7,
   "id": "1bc6665e-6ae7-4446-9ef6-0eb8aa9404cf",
   "metadata": {},
   "outputs": [],
   "source": [
    "import openai\n",
    "import os"
   ]
  },
  {
   "cell_type": "code",
   "execution_count": 8,
   "id": "e6981409-b410-4216-b2d4-3ba4312a601d",
   "metadata": {},
   "outputs": [
    {
     "name": "stdout",
     "output_type": "stream",
     "text": [
      "1.39.0\n"
     ]
    }
   ],
   "source": [
    "print(openai.__version__)"
   ]
  },
  {
   "cell_type": "code",
   "execution_count": 9,
   "id": "ab9b5f48-ab47-46be-9e7b-2d6eb7165047",
   "metadata": {},
   "outputs": [],
   "source": [
    "from openai import OpenAI"
   ]
  },
  {
   "cell_type": "code",
   "execution_count": 10,
   "id": "515fd0a5-6308-4adb-af79-d555c42b7609",
   "metadata": {},
   "outputs": [],
   "source": [
    "#adding connetion with environment variable(recommeneded)\n",
    "os.environ['OPENAI_API_KEY'] = 'OPENAI_API_KEY' "
   ]
  },
  {
   "cell_type": "code",
   "execution_count": 11,
   "id": "0164340a-f66b-4a75-b945-1245d518297c",
   "metadata": {},
   "outputs": [],
   "source": [
    "client = OpenAI()"
   ]
  },
  {
   "cell_type": "markdown",
   "id": "094ff0c0-a6b5-4b43-9fd9-89f56f26eab8",
   "metadata": {},
   "source": [
    "# use of base model-(without fine tuning)"
   ]
  },
  {
   "cell_type": "code",
   "execution_count": 50,
   "id": "1fa1f838-b741-4574-8fb5-a818e85b6a00",
   "metadata": {},
   "outputs": [],
   "source": [
    "\n",
    "#lesser price model\n",
    "completion = client.chat.completions.create(\n",
    "    model = 'gpt-4o-mini-2024-07-18',\n",
    "    messages = [\n",
    "        { \"role\": \"system\",\"content\": \"You are a helpful assistant.\"},\n",
    "        { \"role\": \"user\",\"content\": \"Tell me about India\"}\n",
    "    ]\n",
    ")"
   ]
  },
  {
   "cell_type": "code",
   "execution_count": 51,
   "id": "fbe04dd1-826c-44c0-b29b-9a3b1e58ee2d",
   "metadata": {},
   "outputs": [
    {
     "name": "stdout",
     "output_type": "stream",
     "text": [
      "India, officially known as the Republic of India, is a country located in South Asia. It is the seventh-largest country by land area and the second-most populous country in the world, with over 1.4 billion people. Here are some key aspects of India:\n",
      "\n",
      "### Geography:\n",
      "- **Location**: Bordered by Pakistan to the northwest, China and Nepal to the north, and Bhutan to the northeast. To the south, it is surrounded by the Indian Ocean, with the Arabian Sea to the southwest and the Bay of Bengal to the southeast.\n",
      "- **Diversity**: India has a diverse landscape that includes mountains (the Himalayas in the north), deserts (the Thar Desert in the northwest), plains, forests, and extensive coastlines.\n",
      "\n",
      "### History:\n",
      "- **Ancient Civilization**: India is home to one of the world's oldest civilizations, the Indus Valley Civilization, which dates back to around 2500 BCE.\n",
      "- **Empires**: Throughout its history, India has been ruled by various dynasties and empires, including the Maurya, Gupta, Mughal, and British Empires.\n",
      "- **Independence**: India gained independence from British rule on August 15, 1947, after a long struggle led by figures like Mahatma Gandhi and Jawaharlal Nehru.\n",
      "\n",
      "### Culture:\n",
      "- **Languages**: India is a linguistically diverse country with 22 officially recognized languages. Hindi is the most widely spoken language, while English serves as an associate official language.\n",
      "- **Religion**: India is known for its religious diversity, being the birthplace of Hinduism, Buddhism, Jainism, and Sikhism. It also has significant populations of Islam, Christianity, Sikhism, and other religions.\n",
      "- **Festivals**: Important festivals include Diwali, Holi, Eid, Christmas, Pongal, and many others, reflecting the country's rich cultural tapestry.\n",
      "\n",
      "### Economy:\n",
      "- **Economic Growth**: India has one of the fastest-growing major economies in the world. Its economy is characterized by agriculture, manufacturing, and services. The IT and software services sectors are particularly strong.\n",
      "- **Challenges**: Despite its growth, India faces challenges such as poverty, inequality, inadequate public healthcare, and infrastructure issues.\n",
      "\n",
      "### Political System:\n",
      "- **Government**: India is a federal parliamentary democratic republic, with a President as the head of state and a Prime Minister as the head of government.\n",
      "- **States and Union Territories**: The country consists of 28 states and 8 Union territories, each with varying degrees of governance.\n",
      "\n",
      "### Contemporary Issues:\n",
      "- **Social Issues**: India grapples with various social issues, including caste discrimination, gender inequality, and communal tensions.\n",
      "- **Environmental Concerns**: Rapid industrialization has led to significant environmental challenges, including pollution and deforestation.\n",
      "\n",
      "### Global Role:\n",
      "- **International Relations**: India is a member of several international organizations, including the United Nations, BRICS, the G20, and the Commonwealth of Nations. It plays an active role in global affairs, peacekeeping, and climate change discussions.\n",
      "\n",
      "Overall, India is a land of vast cultural and geographical diversity, with a rich history, and it continues to play a significant role on the global stage today.\n"
     ]
    }
   ],
   "source": [
    "print(completion.choices[0].message.content)"
   ]
  },
  {
   "cell_type": "markdown",
   "id": "8ba425a9-ecff-4716-a4e3-2aedd88d7b57",
   "metadata": {},
   "source": [
    "# tuning base model"
   ]
  },
  {
   "cell_type": "code",
   "execution_count": 52,
   "id": "88a8ff28-4a7b-495e-ab5a-8012e46a3403",
   "metadata": {},
   "outputs": [],
   "source": [
    "#uploading tuning data to LLM model\n",
    "file_upload_response = client.files.create(file = open('fine_tuning_data.jsonl','rb'),purpose='fine-tune')"
   ]
  },
  {
   "cell_type": "code",
   "execution_count": 53,
   "id": "a1bc619a-2c28-4715-a974-062eff3aca77",
   "metadata": {},
   "outputs": [
    {
     "data": {
      "text/plain": [
       "FileObject(id='file-Mjt3EsKNXD8jKkxbAZkiolNI', bytes=163613, created_at=1723621727, filename='fine_tuning_data.jsonl', object='file', purpose='fine-tune', status='processed', status_details=None)"
      ]
     },
     "execution_count": 53,
     "metadata": {},
     "output_type": "execute_result"
    }
   ],
   "source": [
    "#checking whether our traing data uploaded onto llm\n",
    "file_upload_response"
   ]
  },
  {
   "cell_type": "code",
   "execution_count": 54,
   "id": "6503aecd-6bfb-4033-a3d6-271d4dfce13b",
   "metadata": {},
   "outputs": [],
   "source": [
    "#uploading validation data to LLM model\n",
    "file_upload_reponse_val = client.files.create(file = open('fine_tuning_Val_data.jsonl','rb'),purpose= 'fine-tune' )"
   ]
  },
  {
   "cell_type": "code",
   "execution_count": 55,
   "id": "1887c5ad-ca77-4b6f-a819-059311985317",
   "metadata": {},
   "outputs": [
    {
     "data": {
      "text/plain": [
       "FileObject(id='file-sSh4wjRwzIQ62xkOsboGxLs4', bytes=163613, created_at=1723621728, filename='fine_tuning_Val_data.jsonl', object='file', purpose='fine-tune', status='processed', status_details=None)"
      ]
     },
     "execution_count": 55,
     "metadata": {},
     "output_type": "execute_result"
    }
   ],
   "source": [
    "#checking whether our val data uploaded onto llm\n",
    "file_upload_reponse_val"
   ]
  },
  {
   "cell_type": "code",
   "execution_count": 56,
   "id": "f0179852-b722-4242-8264-5373a3e7dcde",
   "metadata": {},
   "outputs": [],
   "source": [
    "# Lets start training process\n",
    "fine_tuning_response = client.fine_tuning.jobs.create(model = 'gpt-3.5-turbo',training_file = file_upload_response.id,validation_file = file_upload_reponse_val.id,hyperparameters={'n_epochs':1})"
   ]
  },
  {
   "cell_type": "code",
   "execution_count": 57,
   "id": "afbe1943-c09b-401f-a062-3f8cd33052ff",
   "metadata": {},
   "outputs": [
    {
     "data": {
      "text/plain": [
       "FineTuningJob(id='ftjob-IRnssDdpz975XPmgkGVitGPw', created_at=1723621730, error=Error(code=None, message=None, param=None), fine_tuned_model=None, finished_at=None, hyperparameters=Hyperparameters(n_epochs=1, batch_size='auto', learning_rate_multiplier='auto'), model='gpt-3.5-turbo-0125', object='fine_tuning.job', organization_id='org-mbNcPYpGizZygum1XP4qz4yt', result_files=[], seed=241626631, status='validating_files', trained_tokens=None, training_file='file-Mjt3EsKNXD8jKkxbAZkiolNI', validation_file='file-sSh4wjRwzIQ62xkOsboGxLs4', estimated_finish=None, integrations=[], user_provided_suffix=None)"
      ]
     },
     "execution_count": 57,
     "metadata": {},
     "output_type": "execute_result"
    }
   ],
   "source": [
    "fine_tuning_response"
   ]
  },
  {
   "cell_type": "code",
   "execution_count": 58,
   "id": "5c111788-d6e8-4174-9e4a-c48ce7667f08",
   "metadata": {},
   "outputs": [
    {
     "data": {
      "text/plain": [
       "SyncCursorPage[FineTuningJob](data=[FineTuningJob(id='ftjob-IRnssDdpz975XPmgkGVitGPw', created_at=1723621730, error=Error(code=None, message=None, param=None), fine_tuned_model=None, finished_at=None, hyperparameters=Hyperparameters(n_epochs=1, batch_size='auto', learning_rate_multiplier='auto'), model='gpt-3.5-turbo-0125', object='fine_tuning.job', organization_id='org-mbNcPYpGizZygum1XP4qz4yt', result_files=[], seed=241626631, status='validating_files', trained_tokens=None, training_file='file-Mjt3EsKNXD8jKkxbAZkiolNI', validation_file='file-sSh4wjRwzIQ62xkOsboGxLs4', estimated_finish=None, integrations=[], user_provided_suffix=None), FineTuningJob(id='ftjob-00sEXw4wSVoGo87QTyeFD5I7', created_at=1723536596, error=Error(code=None, message=None, param=None), fine_tuned_model='ft:gpt-3.5-turbo-0125:personal::9vgwwtrB', finished_at=1723536820, hyperparameters=Hyperparameters(n_epochs=1, batch_size=1, learning_rate_multiplier=2), model='gpt-3.5-turbo-0125', object='fine_tuning.job', organization_id='org-mbNcPYpGizZygum1XP4qz4yt', result_files=['file-XEZUQRx3mhvngCXNs7cE0Vse'], seed=1058498014, status='succeeded', trained_tokens=9534, training_file='file-Gy0N82wG2qFqpSn8LVLZPH56', validation_file='file-FXUTEf5SAs5BL93yrmgUgbpz', estimated_finish=None, integrations=[], user_provided_suffix=None), FineTuningJob(id='ftjob-MKsYuVwOAzKDkoa3656JQLif', created_at=1723535664, error=Error(code=None, message=None, param=None), fine_tuned_model='ft:gpt-3.5-turbo-0125:personal::9vgjbgOL', finished_at=1723535994, hyperparameters=Hyperparameters(n_epochs=1, batch_size=1, learning_rate_multiplier=2), model='gpt-3.5-turbo-0125', object='fine_tuning.job', organization_id='org-mbNcPYpGizZygum1XP4qz4yt', result_files=['file-ek12jYBdYDN1hbMEdUNVZcdb'], seed=1601516882, status='succeeded', trained_tokens=37960, training_file='file-AERT91i5rqCDZ5Y3P5ykdWFP', validation_file='file-FMOguFrjhjE0B8g0puYalgCN', estimated_finish=None, integrations=[], user_provided_suffix=None), FineTuningJob(id='ftjob-3RIEASwqpVKxkrxlLz6OJWra', created_at=1723535351, error=Error(code='invalid_training_file', message='The job failed due to an invalid training file. Unexpected file format, expected either prompt/completion pairs or chat messages.', param='training_file'), fine_tuned_model=None, finished_at=None, hyperparameters=Hyperparameters(n_epochs=1, batch_size='auto', learning_rate_multiplier='auto'), model='gpt-3.5-turbo-0125', object='fine_tuning.job', organization_id='org-mbNcPYpGizZygum1XP4qz4yt', result_files=[], seed=2048187811, status='failed', trained_tokens=None, training_file='file-WYiOxBrYL58z9anG7ZERABQz', validation_file='file-2rlhWGKbjMQBBYLJLkV8xcw4', estimated_finish=None, integrations=[], user_provided_suffix=None), FineTuningJob(id='ftjob-itxxQaD7Ng5305MfVnCetALy', created_at=1723535012, error=Error(code='invalid_training_file', message='The job failed due to an invalid training file. Expected file to have JSONL format, where every line is a valid JSON dictionary. Line 1 is not a dictionary.', param='training_file'), fine_tuned_model=None, finished_at=None, hyperparameters=Hyperparameters(n_epochs=1, batch_size='auto', learning_rate_multiplier='auto'), model='gpt-3.5-turbo-0125', object='fine_tuning.job', organization_id='org-mbNcPYpGizZygum1XP4qz4yt', result_files=[], seed=727749208, status='failed', trained_tokens=None, training_file='file-SHAl1mNW8gsXSwCn8JT0gIrh', validation_file='file-U1LkZ9rpqHiTBO6oXpru0zFn', estimated_finish=None, integrations=[], user_provided_suffix=None), FineTuningJob(id='ftjob-0xhVkuU41LZZBuUK0KsiYkJY', created_at=1723534357, error=Error(code='invalid_training_file', message='The job failed due to an invalid training file. Expected file to have JSONL format, where every line is a valid JSON dictionary. Line 1 is not a dictionary.', param='training_file'), fine_tuned_model=None, finished_at=None, hyperparameters=Hyperparameters(n_epochs=1, batch_size='auto', learning_rate_multiplier='auto'), model='gpt-3.5-turbo-0125', object='fine_tuning.job', organization_id='org-mbNcPYpGizZygum1XP4qz4yt', result_files=[], seed=509609867, status='failed', trained_tokens=None, training_file='file-QsipRg0w5HBgFD4J29RwkNGL', validation_file='file-9EGVxFDFonxM81EltqZRS7D2', estimated_finish=None, integrations=[], user_provided_suffix=None), FineTuningJob(id='ftjob-yxf8q4XIFaMWXAkkplXXxYiV', created_at=1723532724, error=Error(code='invalid_training_file', message='The job failed due to an invalid training file. Unexpected file format, expected either prompt/completion pairs or chat messages.', param='training_file'), fine_tuned_model=None, finished_at=None, hyperparameters=Hyperparameters(n_epochs=1, batch_size='auto', learning_rate_multiplier='auto'), model='gpt-3.5-turbo-0125', object='fine_tuning.job', organization_id='org-mbNcPYpGizZygum1XP4qz4yt', result_files=[], seed=1986487025, status='failed', trained_tokens=None, training_file='file-QPsHtWBx2PXtgJMU5tNWtiUR', validation_file='file-UP8Xgy8TwAZytMmghAHC1Ogr', estimated_finish=None, integrations=[], user_provided_suffix=None), FineTuningJob(id='ftjob-eoJtSuKePihACrswRuBFMz2q', created_at=1723449083, error=Error(code='invalid_training_file', message='The job failed due to an invalid training file. Unexpected file format, expected either prompt/completion pairs or chat messages.', param='training_file'), fine_tuned_model=None, finished_at=None, hyperparameters=Hyperparameters(n_epochs=1, batch_size='auto', learning_rate_multiplier='auto'), model='gpt-3.5-turbo-0125', object='fine_tuning.job', organization_id='org-mbNcPYpGizZygum1XP4qz4yt', result_files=[], seed=1101764281, status='failed', trained_tokens=None, training_file='file-jJQPEUVxXN77T3Tf8spoDioT', validation_file='file-d7h3KhqCiCGI9I4mlAklCWaG', estimated_finish=None, integrations=[], user_provided_suffix=None)], object='list', has_more=False)"
      ]
     },
     "execution_count": 58,
     "metadata": {},
     "output_type": "execute_result"
    }
   ],
   "source": [
    "client.fine_tuning.jobs.list()"
   ]
  },
  {
   "cell_type": "code",
   "execution_count": 64,
   "id": "10b34577-c09c-400d-83a8-017d0737aed8",
   "metadata": {},
   "outputs": [
    {
     "data": {
      "text/plain": [
       "SyncCursorPage[FineTuningJob](data=[FineTuningJob(id='ftjob-IRnssDdpz975XPmgkGVitGPw', created_at=1723621730, error=Error(code=None, message=None, param=None), fine_tuned_model='ft:gpt-3.5-turbo-0125:personal::9w37hVUP', finished_at=1723622056, hyperparameters=Hyperparameters(n_epochs=1, batch_size=1, learning_rate_multiplier=2), model='gpt-3.5-turbo-0125', object='fine_tuning.job', organization_id='org-mbNcPYpGizZygum1XP4qz4yt', result_files=['file-5IapiYpAVViSTbCviBUcvVMb'], seed=241626631, status='succeeded', trained_tokens=37960, training_file='file-Mjt3EsKNXD8jKkxbAZkiolNI', validation_file='file-sSh4wjRwzIQ62xkOsboGxLs4', estimated_finish=None, integrations=[], user_provided_suffix=None)], object='list', has_more=True)"
      ]
     },
     "execution_count": 64,
     "metadata": {},
     "output_type": "execute_result"
    }
   ],
   "source": [
    "client.fine_tuning.jobs.list(limit =1)"
   ]
  },
  {
   "cell_type": "markdown",
   "id": "e8dd088a-738a-44aa-9c95-a62264de0fc7",
   "metadata": {},
   "source": [
    "# Visualize and grab fine tuning event data "
   ]
  },
  {
   "cell_type": "markdown",
   "id": "eefe3dc9-7e1c-412b-bf70-f586b99298c7",
   "metadata": {},
   "source": [
    "## Visualiziing losses"
   ]
  },
  {
   "cell_type": "code",
   "execution_count": 68,
   "id": "63f3f6ef-04d4-4fd5-824a-436a3cd968ad",
   "metadata": {},
   "outputs": [],
   "source": [
    "train_event = client.fine_tuning.jobs.list_events(fine_tuning_job_id='ftjob-IRnssDdpz975XPmgkGVitGPw',limit=55)"
   ]
  },
  {
   "cell_type": "code",
   "execution_count": 69,
   "id": "fe0549f0-4deb-432f-88ab-b18046bbde2a",
   "metadata": {},
   "outputs": [
    {
     "data": {
      "text/plain": [
       "[FineTuningJobEvent(id='ftevent-YDu7nfXCIbSMsJfEoUq69jOX', created_at=1723622060, level='info', message='The job has successfully completed', object='fine_tuning.job.event', data={}, type='message'),\n",
       " FineTuningJobEvent(id='ftevent-XGZ6bnCwOSLRh0HUUOixIflq', created_at=1723622058, level='info', message='New fine-tuned model created: ft:gpt-3.5-turbo-0125:personal::9w37hVUP', object='fine_tuning.job.event', data={}, type='message'),\n",
       " FineTuningJobEvent(id='ftevent-7Al5C6lG6tCdnp8P3b90Haa6', created_at=1723622046, level='info', message='Step 55/55: training loss=0.00, validation loss=0.00, full validation loss=0.27', object='fine_tuning.job.event', data={'step': 55, 'train_loss': 4.19616708313697e-06, 'valid_loss': 1.1920928955078125e-05, 'total_steps': 55, 'full_valid_loss': 0.26852442680384575, 'train_mean_token_accuracy': 1.0, 'valid_mean_token_accuracy': 1.0, 'full_valid_mean_token_accuracy': 0.9595959595959596}, type='metrics'),\n",
       " FineTuningJobEvent(id='ftevent-Ax26P1aUqH6xMzmEnDOO83od', created_at=1723622032, level='info', message='Step 54/55: training loss=0.00, validation loss=0.00', object='fine_tuning.job.event', data={'step': 54, 'train_loss': 0.0003628730773925781, 'valid_loss': 3.337860107421875e-06, 'total_steps': 55, 'train_mean_token_accuracy': 1.0, 'valid_mean_token_accuracy': 1.0}, type='metrics'),\n",
       " FineTuningJobEvent(id='ftevent-D24BOVSgFIcmKqDBykFbc2X6', created_at=1723622032, level='info', message='Step 53/55: training loss=0.00, validation loss=0.00', object='fine_tuning.job.event', data={'step': 53, 'train_loss': 3.43322744811303e-06, 'valid_loss': 2.86102294921875e-06, 'total_steps': 55, 'train_mean_token_accuracy': 1.0, 'valid_mean_token_accuracy': 1.0}, type='metrics'),\n",
       " FineTuningJobEvent(id='ftevent-KTiuOegKvBngYgvLjlbtJ5b0', created_at=1723622028, level='info', message='Step 52/55: training loss=0.00, validation loss=0.00', object='fine_tuning.job.event', data={'step': 52, 'train_loss': 1.9073486328125e-06, 'valid_loss': 3.337860107421875e-06, 'total_steps': 55, 'train_mean_token_accuracy': 1.0, 'valid_mean_token_accuracy': 1.0}, type='metrics'),\n",
       " FineTuningJobEvent(id='ftevent-IkSbHaZyKPPm51GsHAChhnXs', created_at=1723622027, level='info', message='Step 51/55: training loss=0.00, validation loss=0.00', object='fine_tuning.job.event', data={'step': 51, 'train_loss': 9.608268737792969e-05, 'valid_loss': 3.337860107421875e-06, 'total_steps': 55, 'train_mean_token_accuracy': 1.0, 'valid_mean_token_accuracy': 1.0}, type='metrics'),\n",
       " FineTuningJobEvent(id='ftevent-rDWw4iqH41NO5XzKSfk3naKP', created_at=1723622022, level='info', message='Step 50/55: training loss=0.00, validation loss=0.00', object='fine_tuning.job.event', data={'step': 50, 'train_loss': 4.0531158447265625e-06, 'valid_loss': 0.00016736984252929688, 'total_steps': 55, 'train_mean_token_accuracy': 1.0, 'valid_mean_token_accuracy': 1.0}, type='metrics'),\n",
       " FineTuningJobEvent(id='ftevent-LyikC54ELBls285CKUv7tDt2', created_at=1723622022, level='info', message='Step 49/55: training loss=0.00, validation loss=0.00', object='fine_tuning.job.event', data={'step': 49, 'train_loss': 1.6689300537109375e-06, 'valid_loss': 3.337860107421875e-06, 'total_steps': 55, 'train_mean_token_accuracy': 1.0, 'valid_mean_token_accuracy': 1.0}, type='metrics'),\n",
       " FineTuningJobEvent(id='ftevent-ZKt3LucYBVw4AvLmuI82u3P4', created_at=1723622019, level='info', message='Step 48/55: training loss=2.43, validation loss=0.00', object='fine_tuning.job.event', data={'step': 48, 'train_loss': 2.430161476135254, 'valid_loss': 3.337860107421875e-06, 'total_steps': 55, 'train_mean_token_accuracy': 0.875, 'valid_mean_token_accuracy': 1.0}, type='metrics'),\n",
       " FineTuningJobEvent(id='ftevent-gd1S662KKb8GQJ2CNZK4Dyzf', created_at=1723622018, level='info', message='Step 47/55: training loss=2.90, validation loss=0.00', object='fine_tuning.job.event', data={'step': 47, 'train_loss': 2.8993844985961914, 'valid_loss': 3.337860107421875e-06, 'total_steps': 55, 'train_mean_token_accuracy': 0.8333333134651184, 'valid_mean_token_accuracy': 1.0}, type='metrics'),\n",
       " FineTuningJobEvent(id='ftevent-KDwa2eFZyXNEMWClwil9TmOv', created_at=1723622014, level='info', message='Step 46/55: training loss=0.00, validation loss=0.00', object='fine_tuning.job.event', data={'step': 46, 'train_loss': 3.337860107421875e-06, 'valid_loss': 3.337860107421875e-06, 'total_steps': 55, 'train_mean_token_accuracy': 1.0, 'valid_mean_token_accuracy': 1.0}, type='metrics'),\n",
       " FineTuningJobEvent(id='ftevent-YAAI4gPgyuzvVeP2WYeeuzT5', created_at=1723622014, level='info', message='Step 45/55: training loss=1.88, validation loss=0.00', object='fine_tuning.job.event', data={'step': 45, 'train_loss': 1.8785982131958008, 'valid_loss': 3.337860107421875e-06, 'total_steps': 55, 'train_mean_token_accuracy': 0.8333333134651184, 'valid_mean_token_accuracy': 1.0}, type='metrics'),\n",
       " FineTuningJobEvent(id='ftevent-5H1Mt2yUjk6VXMICi896rneI', created_at=1723622011, level='info', message='Step 44/55: training loss=0.00, validation loss=0.00', object='fine_tuning.job.event', data={'step': 44, 'train_loss': 2.6226043701171875e-06, 'valid_loss': 3.337860107421875e-06, 'total_steps': 55, 'train_mean_token_accuracy': 1.0, 'valid_mean_token_accuracy': 1.0}, type='metrics'),\n",
       " FineTuningJobEvent(id='ftevent-MXeugv0s8wXw1aiHOYb2Krbn', created_at=1723622011, level='info', message='Step 43/55: training loss=2.29, validation loss=0.00', object='fine_tuning.job.event', data={'step': 43, 'train_loss': 2.287302255630493, 'valid_loss': 3.337860107421875e-06, 'total_steps': 55, 'train_mean_token_accuracy': 0.8333333134651184, 'valid_mean_token_accuracy': 1.0}, type='metrics'),\n",
       " FineTuningJobEvent(id='ftevent-yM2fhxm4v5eu2XQ0AnLjTn7Q', created_at=1723622010, level='info', message='Step 42/55: training loss=0.00, validation loss=0.00', object='fine_tuning.job.event', data={'step': 42, 'train_loss': 2.543131586207892e-06, 'valid_loss': 3.337860107421875e-06, 'total_steps': 55, 'train_mean_token_accuracy': 1.0, 'valid_mean_token_accuracy': 1.0}, type='metrics'),\n",
       " FineTuningJobEvent(id='ftevent-QTRcL0gdM5WQbSQ09l6moFXm', created_at=1723622004, level='info', message='Step 41/55: training loss=0.00, validation loss=0.00', object='fine_tuning.job.event', data={'step': 41, 'train_loss': 4.76837158203125e-06, 'valid_loss': 3.814697265625e-06, 'total_steps': 55, 'train_mean_token_accuracy': 1.0, 'valid_mean_token_accuracy': 1.0}, type='metrics'),\n",
       " FineTuningJobEvent(id='ftevent-4PFDUeOWUr9LL6BM12l3vAKv', created_at=1723622002, level='info', message='Step 40/55: training loss=0.00, validation loss=5.97', object='fine_tuning.job.event', data={'step': 40, 'train_loss': 3.814697265625e-06, 'valid_loss': 5.967689037322998, 'total_steps': 55, 'train_mean_token_accuracy': 1.0, 'valid_mean_token_accuracy': 0.75}, type='metrics'),\n",
       " FineTuningJobEvent(id='ftevent-DPmLv0jivmW6bdZUrkvsM6RM', created_at=1723621999, level='info', message='Step 39/55: training loss=0.00, validation loss=0.00', object='fine_tuning.job.event', data={'step': 39, 'train_loss': 3.051757857974735e-06, 'valid_loss': 3.814697265625e-06, 'total_steps': 55, 'train_mean_token_accuracy': 1.0, 'valid_mean_token_accuracy': 1.0}, type='metrics'),\n",
       " FineTuningJobEvent(id='ftevent-UG1YuD5ZxSnyQNByBAi3ROLj', created_at=1723621999, level='info', message='Step 38/55: training loss=0.00, validation loss=0.00', object='fine_tuning.job.event', data={'step': 38, 'train_loss': 2.86102294921875e-06, 'valid_loss': 3.814697265625e-06, 'total_steps': 55, 'train_mean_token_accuracy': 1.0, 'valid_mean_token_accuracy': 1.0}, type='metrics'),\n",
       " FineTuningJobEvent(id='ftevent-tYHl4fLEtTZ4RGbSJFc0Yfsj', created_at=1723621994, level='info', message='Step 37/55: training loss=4.38, validation loss=0.00', object='fine_tuning.job.event', data={'step': 37, 'train_loss': 4.3830647468566895, 'valid_loss': 3.814697265625e-06, 'total_steps': 55, 'train_mean_token_accuracy': 0.75, 'valid_mean_token_accuracy': 1.0}, type='metrics'),\n",
       " FineTuningJobEvent(id='ftevent-dPzAhmUdbd49RVfxxfAxgM4G', created_at=1723621991, level='info', message='Step 36/55: training loss=0.43, validation loss=4.38', object='fine_tuning.job.event', data={'step': 36, 'train_loss': 0.4263835847377777, 'valid_loss': 4.3830647468566895, 'total_steps': 55, 'train_mean_token_accuracy': 0.800000011920929, 'valid_mean_token_accuracy': 0.75}, type='metrics'),\n",
       " FineTuningJobEvent(id='ftevent-RtutsLE0P3aHWw2BYVUHE0IR', created_at=1723621991, level='info', message='Step 35/55: training loss=0.00, validation loss=0.59', object='fine_tuning.job.event', data={'step': 35, 'train_loss': 4.291534423828125e-06, 'valid_loss': 0.5891304016113281, 'total_steps': 55, 'train_mean_token_accuracy': 1.0, 'valid_mean_token_accuracy': 0.75}, type='metrics'),\n",
       " FineTuningJobEvent(id='ftevent-EVZqGBNONR2CPb6mgYmN1GlN', created_at=1723621986, level='info', message='Step 34/55: training loss=0.00, validation loss=0.00', object='fine_tuning.job.event', data={'step': 34, 'train_loss': 4.19616708313697e-06, 'valid_loss': 4.291534423828125e-06, 'total_steps': 55, 'train_mean_token_accuracy': 1.0, 'valid_mean_token_accuracy': 1.0}, type='metrics'),\n",
       " FineTuningJobEvent(id='ftevent-xTdcMPJnL9CW3F1uepiWgE72', created_at=1723621983, level='info', message='Step 33/55: training loss=0.00, validation loss=0.00', object='fine_tuning.job.event', data={'step': 33, 'train_loss': 5.245208740234375e-06, 'valid_loss': 4.1961669921875e-06, 'total_steps': 55, 'train_mean_token_accuracy': 1.0, 'valid_mean_token_accuracy': 1.0}, type='metrics'),\n",
       " FineTuningJobEvent(id='ftevent-a0q5GSmjtdmdUq9HMZrncdGJ', created_at=1723621983, level='info', message='Step 32/55: training loss=0.00, validation loss=1.80', object='fine_tuning.job.event', data={'step': 32, 'train_loss': 7.534027099609375e-05, 'valid_loss': 1.7991352081298828, 'total_steps': 55, 'train_mean_token_accuracy': 1.0, 'valid_mean_token_accuracy': 0.8}, type='metrics'),\n",
       " FineTuningJobEvent(id='ftevent-G0WtW5QykEw1kSbsxrmahV7O', created_at=1723621983, level='info', message='Step 31/55: training loss=0.00, validation loss=0.00', object='fine_tuning.job.event', data={'step': 31, 'train_loss': 4.450479991646716e-06, 'valid_loss': 3.814697265625e-06, 'total_steps': 55, 'train_mean_token_accuracy': 1.0, 'valid_mean_token_accuracy': 1.0}, type='metrics'),\n",
       " FineTuningJobEvent(id='ftevent-K10NNwzdRSKgRLTB5YuSvYCb', created_at=1723621978, level='info', message='Step 30/55: training loss=0.00, validation loss=0.00', object='fine_tuning.job.event', data={'step': 30, 'train_loss': 0.0008478164672851562, 'valid_loss': 4.57763671875e-06, 'total_steps': 55, 'train_mean_token_accuracy': 1.0, 'valid_mean_token_accuracy': 1.0}, type='metrics'),\n",
       " FineTuningJobEvent(id='ftevent-1wfZWsXvIU2M8tb91z7rx6gz', created_at=1723621977, level='info', message='Step 29/55: training loss=1.17, validation loss=0.00', object='fine_tuning.job.event', data={'step': 29, 'train_loss': 1.1734943389892578, 'valid_loss': 1.220703125e-05, 'total_steps': 55, 'train_mean_token_accuracy': 0.875, 'valid_mean_token_accuracy': 1.0}, type='metrics'),\n",
       " FineTuningJobEvent(id='ftevent-j5EuEA8k6Bjl2RZh8X2a8QqM', created_at=1723621972, level='info', message='Step 28/55: training loss=0.13, validation loss=0.00', object='fine_tuning.job.event', data={'step': 28, 'train_loss': 0.12978672981262207, 'valid_loss': 3.814697265625e-06, 'total_steps': 55, 'train_mean_token_accuracy': 0.875, 'valid_mean_token_accuracy': 1.0}, type='metrics'),\n",
       " FineTuningJobEvent(id='ftevent-TXZvcpYMLCLM2eyKVj7tpLQJ', created_at=1723621972, level='info', message='Step 27/55: training loss=0.00, validation loss=0.00', object='fine_tuning.job.event', data={'step': 27, 'train_loss': 4.57763690064894e-06, 'valid_loss': 2.13623046875e-05, 'total_steps': 55, 'train_mean_token_accuracy': 1.0, 'valid_mean_token_accuracy': 1.0}, type='metrics'),\n",
       " FineTuningJobEvent(id='ftevent-3drR3ESKtFYoHXyWa9cYcxX5', created_at=1723621972, level='info', message='Step 26/55: training loss=1.58, validation loss=0.00', object='fine_tuning.job.event', data={'step': 26, 'train_loss': 1.5792831182479858, 'valid_loss': 4.57763671875e-06, 'total_steps': 55, 'train_mean_token_accuracy': 0.800000011920929, 'valid_mean_token_accuracy': 1.0}, type='metrics'),\n",
       " FineTuningJobEvent(id='ftevent-HfZ6Dc7kDULw22aGs8XsKqin', created_at=1723621967, level='info', message='Step 25/55: training loss=0.00, validation loss=1.58', object='fine_tuning.job.event', data={'step': 25, 'train_loss': 1.52587890625e-05, 'valid_loss': 1.5792831420898437, 'total_steps': 55, 'train_mean_token_accuracy': 1.0, 'valid_mean_token_accuracy': 0.8}, type='metrics'),\n",
       " FineTuningJobEvent(id='ftevent-wmXb3F2w7yOwLgi9LB45Db8k', created_at=1723621964, level='info', message='Step 24/55: training loss=6.81, validation loss=0.05', object='fine_tuning.job.event', data={'step': 24, 'train_loss': 6.807838439941406, 'valid_loss': 0.05159912109375, 'total_steps': 55, 'train_mean_token_accuracy': 0.75, 'valid_mean_token_accuracy': 1.0}, type='metrics'),\n",
       " FineTuningJobEvent(id='ftevent-3AUyyAPstgz5A0IALDH2sldA', created_at=1723621964, level='info', message='Step 23/55: training loss=0.00, validation loss=0.00', object='fine_tuning.job.event', data={'step': 23, 'train_loss': 0.002430438995361328, 'valid_loss': 4.9591064453125e-06, 'total_steps': 55, 'train_mean_token_accuracy': 1.0, 'valid_mean_token_accuracy': 1.0}, type='metrics'),\n",
       " FineTuningJobEvent(id='ftevent-L1x0OS96lvIZq5hbqeecSRwA', created_at=1723621960, level='info', message='Step 22/55: training loss=0.00, validation loss=1.98', object='fine_tuning.job.event', data={'step': 22, 'train_loss': 7.152557373046875e-06, 'valid_loss': 1.9844096501668294, 'total_steps': 55, 'train_mean_token_accuracy': 1.0, 'valid_mean_token_accuracy': 0.8333333333333334}, type='metrics'),\n",
       " FineTuningJobEvent(id='ftevent-3cPyNcDSDdvIoWFG2ao6751Q', created_at=1723621959, level='info', message='Step 21/55: training loss=0.04, validation loss=0.00', object='fine_tuning.job.event', data={'step': 21, 'train_loss': 0.04019880294799805, 'valid_loss': 4.76837158203125e-06, 'total_steps': 55, 'train_mean_token_accuracy': 1.0, 'valid_mean_token_accuracy': 1.0}, type='metrics'),\n",
       " FineTuningJobEvent(id='ftevent-VySi1lmdiFiJKizAH5wXToqY', created_at=1723621954, level='info', message='Step 20/55: training loss=0.00, validation loss=0.00', object='fine_tuning.job.event', data={'step': 20, 'train_loss': 6.48498553346144e-06, 'valid_loss': 5.086263020833333e-06, 'total_steps': 55, 'train_mean_token_accuracy': 1.0, 'valid_mean_token_accuracy': 1.0}, type='metrics'),\n",
       " FineTuningJobEvent(id='ftevent-tVAd3zPIF8jlnHupBEbhFbzM', created_at=1723621954, level='info', message='Step 19/55: training loss=0.00, validation loss=1.10', object='fine_tuning.job.event', data={'step': 19, 'train_loss': 0.0015940666198730469, 'valid_loss': 1.103777567545573, 'total_steps': 55, 'train_mean_token_accuracy': 1.0, 'valid_mean_token_accuracy': 0.8333333333333334}, type='metrics'),\n",
       " FineTuningJobEvent(id='ftevent-41xET19O4SImVpj2jQnc3akT', created_at=1723621951, level='info', message='Step 18/55: training loss=1.74, validation loss=1.12', object='fine_tuning.job.event', data={'step': 18, 'train_loss': 1.7436615228652954, 'valid_loss': 1.1225840250651042, 'total_steps': 55, 'train_mean_token_accuracy': 0.800000011920929, 'valid_mean_token_accuracy': 0.8333333333333334}, type='metrics'),\n",
       " FineTuningJobEvent(id='ftevent-PMzxRingZ8BJ9uOQap5KkUFy', created_at=1723621950, level='info', message='Step 17/55: training loss=1.50, validation loss=0.81', object='fine_tuning.job.event', data={'step': 17, 'train_loss': 1.4965264797210693, 'valid_loss': 0.8131615320841471, 'total_steps': 55, 'train_mean_token_accuracy': 0.875, 'valid_mean_token_accuracy': 0.8333333333333334}, type='metrics'),\n",
       " FineTuningJobEvent(id='ftevent-c1Exm1rr7c31AyRPAMaLA2bH', created_at=1723621946, level='info', message='Step 16/55: training loss=0.00, validation loss=0.00', object='fine_tuning.job.event', data={'step': 16, 'train_loss': 1.0967254638671875e-05, 'valid_loss': 7.311503092447917e-06, 'total_steps': 55, 'train_mean_token_accuracy': 1.0, 'valid_mean_token_accuracy': 1.0}, type='metrics'),\n",
       " FineTuningJobEvent(id='ftevent-R96x4bWCRUdzSWBvaFqwCy0c', created_at=1723621946, level='info', message='Step 15/55: training loss=0.01, validation loss=0.00', object='fine_tuning.job.event', data={'step': 15, 'train_loss': 0.01399993896484375, 'valid_loss': 8.58306884765625e-06, 'total_steps': 55, 'train_mean_token_accuracy': 1.0, 'valid_mean_token_accuracy': 1.0}, type='metrics'),\n",
       " FineTuningJobEvent(id='ftevent-4B3tz1GTalPjTW1E3O84GM1z', created_at=1723621943, level='info', message='Step 14/55: training loss=0.00, validation loss=0.00', object='fine_tuning.job.event', data={'step': 14, 'train_loss': 2.1457672119140625e-05, 'valid_loss': 8.900960286458334e-06, 'total_steps': 55, 'train_mean_token_accuracy': 1.0, 'valid_mean_token_accuracy': 1.0}, type='metrics'),\n",
       " FineTuningJobEvent(id='ftevent-nrN5TK2cCfyQY7oLF7oxDm9a', created_at=1723621943, level='info', message='Step 13/55: training loss=0.02, validation loss=0.00', object='fine_tuning.job.event', data={'step': 13, 'train_loss': 0.02196335792541504, 'valid_loss': 1.1761983235677084e-05, 'total_steps': 55, 'train_mean_token_accuracy': 1.0, 'valid_mean_token_accuracy': 1.0}, type='metrics'),\n",
       " FineTuningJobEvent(id='ftevent-309kb5OKelkmV0cIrd4ZHLxL', created_at=1723621942, level='info', message='Step 12/55: training loss=0.00, validation loss=0.00', object='fine_tuning.job.event', data={'step': 12, 'train_loss': 0.0039380392991006374, 'valid_loss': 9.218851725260416e-06, 'total_steps': 55, 'train_mean_token_accuracy': 1.0, 'valid_mean_token_accuracy': 1.0}, type='metrics'),\n",
       " FineTuningJobEvent(id='ftevent-YWerh1IqWSThNgbKubod3WTS', created_at=1723621937, level='info', message='Step 11/55: training loss=0.00, validation loss=0.00', object='fine_tuning.job.event', data={'step': 11, 'train_loss': 4.1961669921875e-05, 'valid_loss': 0.0005776882171630859, 'total_steps': 55, 'train_mean_token_accuracy': 1.0, 'valid_mean_token_accuracy': 1.0}, type='metrics'),\n",
       " FineTuningJobEvent(id='ftevent-Yc1OpIrKhQF3eVL2jQkDyxRq', created_at=1723621936, level='info', message='Step 10/55: training loss=1.36, validation loss=1.06', object='fine_tuning.job.event', data={'step': 10, 'train_loss': 1.360961675643921, 'valid_loss': 1.0612664222717285, 'total_steps': 55, 'train_mean_token_accuracy': 0.875, 'valid_mean_token_accuracy': 0.875}, type='metrics'),\n",
       " FineTuningJobEvent(id='ftevent-ltZSkTopMuiQrX0NsfU2B0wI', created_at=1723621931, level='info', message='Step 9/55: training loss=3.75, validation loss=1.86', object='fine_tuning.job.event', data={'step': 9, 'train_loss': 3.7464585304260254, 'valid_loss': 1.863403081893921, 'total_steps': 55, 'train_mean_token_accuracy': 0.75, 'valid_mean_token_accuracy': 0.875}, type='metrics'),\n",
       " FineTuningJobEvent(id='ftevent-9gAcI67PJszGCVXvnnwKANSI', created_at=1723621927, level='info', message='Step 8/55: training loss=0.00, validation loss=0.00', object='fine_tuning.job.event', data={'step': 8, 'train_loss': 0.0015740394592285156, 'valid_loss': 0.0026857852935791016, 'total_steps': 55, 'train_mean_token_accuracy': 1.0, 'valid_mean_token_accuracy': 1.0}, type='metrics'),\n",
       " FineTuningJobEvent(id='ftevent-andYefONXBVpP3vCuX6Z59DD', created_at=1723621927, level='info', message='Step 7/55: training loss=0.00, validation loss=0.01', object='fine_tuning.job.event', data={'step': 7, 'train_loss': 3.0517578125e-05, 'valid_loss': 0.0067901611328125, 'total_steps': 55, 'train_mean_token_accuracy': 1.0, 'valid_mean_token_accuracy': 1.0}, type='metrics'),\n",
       " FineTuningJobEvent(id='ftevent-Omnf0C4Eah0jaUspGVQiBNwW', created_at=1723621924, level='info', message='Step 6/55: training loss=0.00, validation loss=0.01', object='fine_tuning.job.event', data={'step': 6, 'train_loss': 0.00029468536376953125, 'valid_loss': 0.010643959045410156, 'total_steps': 55, 'train_mean_token_accuracy': 1.0, 'valid_mean_token_accuracy': 1.0}, type='metrics'),\n",
       " FineTuningJobEvent(id='ftevent-uA097G0LrW2zDw2Jz4cAa9HI', created_at=1723621923, level='info', message='Step 5/55: training loss=0.00, validation loss=0.01', object='fine_tuning.job.event', data={'step': 5, 'train_loss': 0.0005775451427325606, 'valid_loss': 0.005694866180419922, 'total_steps': 55, 'train_mean_token_accuracy': 1.0, 'valid_mean_token_accuracy': 1.0}, type='metrics'),\n",
       " FineTuningJobEvent(id='ftevent-JSKdrN7SnPS97x4d3o8yoETs', created_at=1723621919, level='info', message='Step 4/55: training loss=0.00, validation loss=0.01', object='fine_tuning.job.event', data={'step': 4, 'train_loss': 0.0033696491736918688, 'valid_loss': 0.006089210510253906, 'total_steps': 55, 'train_mean_token_accuracy': 1.0, 'valid_mean_token_accuracy': 1.0}, type='metrics'),\n",
       " FineTuningJobEvent(id='ftevent-tjTcS86JuePMcrYjjpg9cWO3', created_at=1723621919, level='info', message='Step 3/55: training loss=2.23, validation loss=0.04', object='fine_tuning.job.event', data={'step': 3, 'train_loss': 2.2250149250030518, 'valid_loss': 0.0428466796875, 'total_steps': 55, 'train_mean_token_accuracy': 0.8333333134651184, 'valid_mean_token_accuracy': 1.0}, type='metrics')]"
      ]
     },
     "execution_count": 69,
     "metadata": {},
     "output_type": "execute_result"
    }
   ],
   "source": [
    "train_event.data # returns a list of all fine tuning job events"
   ]
  },
  {
   "cell_type": "code",
   "execution_count": 70,
   "id": "7e5b7b56-3430-4eb1-98ef-dbd211d51548",
   "metadata": {},
   "outputs": [
    {
     "data": {
      "text/plain": [
       "FineTuningJobEvent(id='ftevent-YDu7nfXCIbSMsJfEoUq69jOX', created_at=1723622060, level='info', message='The job has successfully completed', object='fine_tuning.job.event', data={}, type='message')"
      ]
     },
     "execution_count": 70,
     "metadata": {},
     "output_type": "execute_result"
    }
   ],
   "source": [
    "train_event.data[0]"
   ]
  },
  {
   "cell_type": "markdown",
   "id": "802ec4e9-f14a-4b78-8eae-9d46b9c98fa0",
   "metadata": {},
   "source": [
    "looks like above message is last message saying that jb completed"
   ]
  },
  {
   "cell_type": "code",
   "execution_count": 71,
   "id": "5b385a65-5e88-4f7c-910e-89a7e30342bd",
   "metadata": {},
   "outputs": [
    {
     "data": {
      "text/plain": [
       "FineTuningJobEvent(id='ftevent-XGZ6bnCwOSLRh0HUUOixIflq', created_at=1723622058, level='info', message='New fine-tuned model created: ft:gpt-3.5-turbo-0125:personal::9w37hVUP', object='fine_tuning.job.event', data={}, type='message')"
      ]
     },
     "execution_count": 71,
     "metadata": {},
     "output_type": "execute_result"
    }
   ],
   "source": [
    "train_event.data[1]"
   ]
  },
  {
   "cell_type": "code",
   "execution_count": 72,
   "id": "d142eb69-5b75-4447-8ade-2cda54cd173f",
   "metadata": {},
   "outputs": [
    {
     "data": {
      "text/plain": [
       "FineTuningJobEvent(id='ftevent-7Al5C6lG6tCdnp8P3b90Haa6', created_at=1723622046, level='info', message='Step 55/55: training loss=0.00, validation loss=0.00, full validation loss=0.27', object='fine_tuning.job.event', data={'step': 55, 'train_loss': 4.19616708313697e-06, 'valid_loss': 1.1920928955078125e-05, 'total_steps': 55, 'full_valid_loss': 0.26852442680384575, 'train_mean_token_accuracy': 1.0, 'valid_mean_token_accuracy': 1.0, 'full_valid_mean_token_accuracy': 0.9595959595959596}, type='metrics')"
      ]
     },
     "execution_count": 72,
     "metadata": {},
     "output_type": "execute_result"
    }
   ],
   "source": [
    "train_event.data[2]"
   ]
  },
  {
   "cell_type": "code",
   "execution_count": 73,
   "id": "fad625b4-c014-4e1c-899c-96b16f0cc4c1",
   "metadata": {},
   "outputs": [
    {
     "data": {
      "text/plain": [
       "{'step': 55,\n",
       " 'train_loss': 4.19616708313697e-06,\n",
       " 'valid_loss': 1.1920928955078125e-05,\n",
       " 'total_steps': 55,\n",
       " 'full_valid_loss': 0.26852442680384575,\n",
       " 'train_mean_token_accuracy': 1.0,\n",
       " 'valid_mean_token_accuracy': 1.0,\n",
       " 'full_valid_mean_token_accuracy': 0.9595959595959596}"
      ]
     },
     "execution_count": 73,
     "metadata": {},
     "output_type": "execute_result"
    }
   ],
   "source": [
    "train_event.data[2].data # o/p of this is a dictionary"
   ]
  },
  {
   "cell_type": "code",
   "execution_count": 74,
   "id": "90e73457-4f5b-455f-9852-6f1b648581e1",
   "metadata": {},
   "outputs": [],
   "source": [
    "#lets capture thses data \n",
    "train_loss = []\n",
    "valid_loss = []\n",
    "\n",
    "for item in train_event.data:\n",
    "    train_data = item.data\n",
    "    if train_data and 'train_loss' in train_data:\n",
    "        train_loss.insert(0,train_data['train_loss'])\n",
    "        valid_loss.insert(0,train_data['valid_loss'])\n",
    "    \n",
    "    "
   ]
  },
  {
   "cell_type": "code",
   "execution_count": 75,
   "id": "6d410b42-9703-46d4-a068-66f65b003c5d",
   "metadata": {},
   "outputs": [
    {
     "data": {
      "text/plain": [
       "[<matplotlib.lines.Line2D at 0x2c3fccba490>]"
      ]
     },
     "execution_count": 75,
     "metadata": {},
     "output_type": "execute_result"
    },
    {
     "data": {
      "image/png": "[encoded data removed]",
      "text/plain": [
       "<Figure size 640x480 with 1 Axes>"
      ]
     },
     "metadata": {},
     "output_type": "display_data"
    }
   ],
   "source": [
    "import matplotlib.pyplot as plt\n",
    "plt.figure()\n",
    "plt.plot(train_loss)\n",
    "plt.plot(valid_loss)"
   ]
  },
  {
   "cell_type": "markdown",
   "id": "1ca99e24-9874-41b1-8a07-352797015c24",
   "metadata": {},
   "source": [
    "# apply fine tuned mode now !"
   ]
  },
  {
   "cell_type": "code",
   "execution_count": 12,
   "id": "c4ccb233-3fbf-4b0a-9422-fc96a357a738",
   "metadata": {},
   "outputs": [],
   "source": [
    "#example model\n",
    "completion = client.chat.completions.create(\n",
    "    model = 'gpt-4o-mini-2024-07-18',\n",
    "    messages = [\n",
    "        { \"role\": \"system\",\"content\": \"You are a helpful assistant.\"},\n",
    "        { \"role\": \"user\",\"content\": \"Tell me about India\"}\n",
    "    ]\n",
    ")"
   ]
  },
  {
   "cell_type": "code",
   "execution_count": 35,
   "id": "312e81d1-5b89-40c4-85e7-532718d6d3fd",
   "metadata": {},
   "outputs": [],
   "source": [
    "test_report = test['report'].iloc[1]"
   ]
  },
  {
   "cell_type": "code",
   "execution_count": 48,
   "id": "e0d1c800-5ebc-4fec-a2cd-922b7735434b",
   "metadata": {},
   "outputs": [],
   "source": [
    "system_prompt = \"Given the medical description report, classify it into one of these categories: Cardiovascular / Pulmonary, Gastroenterology, Neurology, Radiology,Surgery\"\n",
    "completion = client.chat.completions.create(model = 'ft:gpt-3.5-turbo-0125:personal::9w37hVUP',\n",
    "                                           messages = [\n",
    "                                               {'role':'system','content':system_prompt},\n",
    "                                               {'role':'user','content':test_report}\n",
    "                                           ]) # here we are putting our fine tuned model"
   ]
  },
  {
   "cell_type": "code",
   "execution_count": 50,
   "id": "c8a00a28-16cf-4f4b-969d-e133a8532bf8",
   "metadata": {},
   "outputs": [
    {
     "name": "stdout",
     "output_type": "stream",
     "text": [
      "ChatCompletion(id='chatcmpl-9wUd0e4qEMlRV614SIgdEQ7U9P5H3', choices=[Choice(finish_reason='stop', index=0, logprobs=None, message=ChatCompletionMessage(content='Surgery', role='assistant', function_call=None, tool_calls=None, refusal=None))], created=1723727786, model='ft:gpt-3.5-turbo-0125:personal::9w37hVUP', object='chat.completion', service_tier=None, system_fingerprint=None, usage=CompletionUsage(completion_tokens=2, prompt_tokens=352, total_tokens=354))\n"
     ]
    }
   ],
   "source": [
    "print(completion)"
   ]
  },
  {
   "cell_type": "code",
   "execution_count": 51,
   "id": "c9811b25-9885-4bf5-8c02-25856b1e92dd",
   "metadata": {},
   "outputs": [
    {
     "data": {
      "text/plain": [
       "ChatCompletionMessage(content='Surgery', role='assistant', function_call=None, tool_calls=None, refusal=None)"
      ]
     },
     "execution_count": 51,
     "metadata": {},
     "output_type": "execute_result"
    }
   ],
   "source": [
    "completion.choices[0].message"
   ]
  },
  {
   "cell_type": "code",
   "execution_count": 53,
   "id": "d1a1bd7b-8c6d-467e-9668-b4e81bb1b90d",
   "metadata": {},
   "outputs": [
    {
     "data": {
      "text/plain": [
       "'Surgery'"
      ]
     },
     "execution_count": 53,
     "metadata": {},
     "output_type": "execute_result"
    }
   ],
   "source": [
    "completion.choices[0].message.content"
   ]
  },
  {
   "cell_type": "code",
   "execution_count": 38,
   "id": "1c00814c-9219-4f3d-b3b6-73f06cdefd62",
   "metadata": {},
   "outputs": [
    {
     "data": {
      "text/plain": [
       "openai.types.chat.chat_completion.ChatCompletion"
      ]
     },
     "execution_count": 38,
     "metadata": {},
     "output_type": "execute_result"
    }
   ],
   "source": [
    "type(completion)"
   ]
  },
  {
   "cell_type": "code",
   "execution_count": null,
   "id": "ea872a92-b827-4bff-958e-0b8f46bab1af",
   "metadata": {},
   "outputs": [],
   "source": [
    "# lets put test dat in loop to check how many correct answer our tuned model give"
   ]
  },
  {
   "cell_type": "code",
   "execution_count": 55,
   "id": "bdde664c-f201-48d1-9ef2-e44c225e9dd5",
   "metadata": {},
   "outputs": [],
   "source": [
    "test = test.head(3) # make test data small"
   ]
  },
  {
   "cell_type": "code",
   "execution_count": 66,
   "id": "55157703-9f14-47a0-94c4-a356b84e9aae",
   "metadata": {},
   "outputs": [],
   "source": [
    "#function to get output from LLM\n",
    "def classify_report(report,model):\n",
    "    completion = client.chat.completions.create(model = model,\n",
    "                                           messages = [\n",
    "                                               {'role':'system','content':system_prompt},\n",
    "                                               {'role':'user','content':report}\n",
    "                                           ]) # here we are putting our fine tuned model\n",
    "    return completion"
   ]
  },
  {
   "cell_type": "markdown",
   "id": "572ee03f-7919-4ed8-84f3-7b9f5075d0dc",
   "metadata": {},
   "source": [
    "## check on base model"
   ]
  },
  {
   "cell_type": "code",
   "execution_count": 81,
   "id": "9d6faca4-ab17-46f6-8935-5098ab0021d3",
   "metadata": {},
   "outputs": [],
   "source": [
    "predicted_classes = []\n",
    "ground_truth_classes = []\n",
    "for index,row in test.iterrows():\n",
    "    report, specialty = row['report'],row['medical_specialty']\n",
    "    ground_truth_classes.append(specialty.strip())\n",
    "    prediction = classify_report(report, model = 'gpt-4o-mini-2024-07-18')\n",
    "    predicted_classes.append(prediction.choices[0].message.content.strip())\n",
    "    \n",
    "    "
   ]
  },
  {
   "cell_type": "markdown",
   "id": "06552f09-9cca-44da-acaf-2ed3554ab609",
   "metadata": {},
   "source": [
    "predicted_classes = []\n",
    "ground_truth_classes = []\n",
    "for line in test.iterrows():\n",
    "    report, specialty = line[1]['report'],line[1]['medical_specialty']\n",
    "    print(report,specialty)\n",
    "    ground_truth_classes.append(specialty.strip())\n",
    "    prediction = classify_report(report, model = 'gpt-4o-mini-2024-07-18')\n",
    "    predicted_classes.append(prediction.choices[0].message.content.strip())\n",
    "    \n",
    "    "
   ]
  },
  {
   "cell_type": "code",
   "execution_count": 77,
   "id": "af455ddc-b6d5-4125-be66-e57b36bca631",
   "metadata": {},
   "outputs": [
    {
     "data": {
      "text/plain": [
       "0.0"
      ]
     },
     "execution_count": 77,
     "metadata": {},
     "output_type": "execute_result"
    }
   ],
   "source": [
    "import numpy as np\n",
    "(np.array(predicted_classes) == np.array(ground_truth_classes)).mean() # ACCuracy"
   ]
  },
  {
   "cell_type": "markdown",
   "id": "7e87fbda-e2dd-458d-8266-a4e280495637",
   "metadata": {},
   "source": [
    "## check on tuned model"
   ]
  },
  {
   "cell_type": "code",
   "execution_count": 72,
   "id": "af97a09f-eaf2-4493-af4a-7e95b010552a",
   "metadata": {},
   "outputs": [],
   "source": [
    "predicted_classes = []\n",
    "ground_truth_classes = []\n",
    "for index,row in test.iterrows():\n",
    "    report, specialty = row['report'],row['medical_specialty']\n",
    "    ground_truth_classes.append(specialty.strip())\n",
    "    prediction = classify_report(report, model = 'ft:gpt-3.5-turbo-0125:personal::9w37hVUP')\n",
    "    predicted_classes.append(prediction.choices[0].message.content.strip())\n",
    "    \n",
    "    "
   ]
  },
  {
   "cell_type": "code",
   "execution_count": 73,
   "id": "0403308d-590c-4b2e-b282-e8bfeadc4ba4",
   "metadata": {},
   "outputs": [
    {
     "data": {
      "text/plain": [
       "0.3333333333333333"
      ]
     },
     "execution_count": 73,
     "metadata": {},
     "output_type": "execute_result"
    }
   ],
   "source": [
    "import numpy as np\n",
    "(np.array(predicted_classes) == np.array(ground_truth_classes)).mean() # ACCuracy"
   ]
  },
  {
   "cell_type": "code",
   "execution_count": null,
   "id": "bdebaa62-731f-46ba-8050-a0f0a8860fbf",
   "metadata": {},
   "outputs": [],
   "source": []
  },
  {
   "cell_type": "code",
   "execution_count": 74,
   "id": "caa63c1c-f6de-43bf-8dc2-9fea7e7814a6",
   "metadata": {},
   "outputs": [
    {
     "data": {
      "text/plain": [
       "['Cardiovascular / Pulmonary',\n",
       " 'Cardiovascular / Pulmonary',\n",
       " 'Gastroenterology']"
      ]
     },
     "execution_count": 74,
     "metadata": {},
     "output_type": "execute_result"
    }
   ],
   "source": [
    "ground_truth_classes"
   ]
  },
  {
   "cell_type": "code",
   "execution_count": 75,
   "id": "1905eb02-020e-4554-8346-6b8c22b363bf",
   "metadata": {},
   "outputs": [
    {
     "data": {
      "text/plain": [
       "['Surgery', 'Surgery', 'Gastroenterology']"
      ]
     },
     "execution_count": 75,
     "metadata": {},
     "output_type": "execute_result"
    }
   ],
   "source": [
    "predicted_classes"
   ]
  },
  {
   "cell_type": "code",
   "execution_count": null,
   "id": "950350b6-fff1-46df-b889-ef97143e922e",
   "metadata": {},
   "outputs": [],
   "source": []
  },
  {
   "cell_type": "code",
   "execution_count": null,
   "id": "a1840468-e7f9-4692-81ac-5dca335aaf4b",
   "metadata": {},
   "outputs": [],
   "source": []
  },
  {
   "cell_type": "markdown",
   "id": "955c46fe-7c86-4ad0-b0bd-aa04077ae024",
   "metadata": {},
   "source": [
    "# Other analysis"
   ]
  },
  {
   "cell_type": "markdown",
   "id": "1ceb631c-9c3d-43e1-8b81-303b1184e34d",
   "metadata": {},
   "source": [
    "# #lets check the format of traing data"
   ]
  },
  {
   "cell_type": "code",
   "execution_count": 60,
   "id": "d5b76f31-85d0-4ec7-8a24-94b3d74e14f5",
   "metadata": {},
   "outputs": [
    {
     "name": "stdout",
     "output_type": "stream",
     "text": [
      "Num examples: 55\n",
      "First example:\n",
      "{'role': 'system', 'content': 'Given the medical description report, classify it into one of these categories: Cardiovascular / Pulmonary, Gastroenterology, Neurology, Radiology,Surgery'}\n",
      "{'role': 'user', 'content': 'PREOPERATIVE DIAGNOSES:,1.  Non-small-cell carcinoma of the left upper lobe.,2.  History of lymphoma in remission.,POSTOPERATIVE DIAGNOSES:,1.  Non-small-cell carcinoma of the left upper lobe.,2.  History of lymphoma in remission.,PROCEDURE: , Left muscle sparing mini thoracotomy with left upper lobectomy and mediastinal lymph node dissection.  Intercostal nerve block for postoperative pain relief at five levels.,INDICATIONS FOR THE PROCEDURE: , This is an 84-year-old lady who was referred by Dr. A for treatment of her left upper lobe carcinoma.  The patient has a history of lymphoma and is in remission.  An enlarged right axillary lymph node was biopsied recently and was negative for lymphoma.  A mass in the left upper lobe was biopsied with fine-needle aspiration and shown to be a primary non-small-cell carcinoma of the lung.  PET scan was, otherwise, negative for spread and resection was advised.  All the risk and benefits were fully explained to the patient and she elected to proceed as planned.  She was transferred to rehab for couple of weeks to buildup strength before the surgery.,PROCEDURE IN DETAIL:,  In the operating room under anesthesia, she was prepped and draped suitably.  Dr. B was the staff anesthesiologist.  Left muscle sparing mini thoracotomy was made.  The serratus and latissimus muscles were not cut but moved out to the way.  Access to the chest was obtained through the fifth intercostal space.  Two Tuffier retractors of right angles provided adequate exposure.,The inferior pulmonary ligament was not dissected free and lymph nodes from the station 9 were now sent for pathology.  The parietal pleural reflexion around the hilum was now circumcised, and lymph nodes were taken from station 8 and station 5.,The branches of the pulmonary artery to the upper lobe were now individually stapled with a 30/2.5 staple gun or/and the smaller one were ligated with 2-0 silk.  The left superior pulmonary vein was transected using a TA30/2.5 staple gun, and the fissure was completed using firings of an endo-GIA 60/4.8 staple gun.  Finally, the left upper lobe bronchus was transected using a TA30/4.8 staple gun.  Please note, that this patient had been somewhat unusual variant of a small bronchus that was coming out posterior to the main trunk of the pulmonary artery and supplying a small section of the posterior portion of the left upper lobe.,The specimen was delivered and sent to pathology.  The mass was clearly palpable in the upper portion of the lingular portion of this left upper lobe.  Frozen section showed that the margin was negative.,The chest was irrigated with warm sterile water and when the left lower lobe inflated, there was no air leak.  A single 32-French chest tube was inserted, and intercostal block was done with Marcaine infiltrated two spaces above and two spaces below thus achieving a block at five levels 30 mL of Marcaine was used all together.  A #2 Vicryl pericostal sutures were now applied.  The serratus and latissimus muscles retracted back in place.  A #19 French Blake drain placed in the subcutaneous tissues and 2-0 Vicryl used for the fat followed by 4-0 Monocryl for the skin.  The patient was transferred to the ICU in a stable condition.'}\n",
      "{'role': 'assistant', 'content': 'Cardiovascular / Pulmonary'}\n"
     ]
    }
   ],
   "source": [
    "\n",
    "data_path = r\"C:\\Users\\ekrsinh\\OneDrive - Ericsson\\Documents\\LLM\\LLM Fine-Tuning on OpenAI/fine_tuning_Val_data.jsonl\"\n",
    "\n",
    "# Load the dataset\n",
    "with open(data_path, 'r', encoding='utf-8') as f:\n",
    "    dataset = [json.loads(line) for line in f]\n",
    "\n",
    "# Initial dataset stats\n",
    "print(\"Num examples:\", len(dataset))\n",
    "print(\"First example:\")\n",
    "for message in dataset[0][\"messages\"]:\n",
    "    print(message)"
   ]
  },
  {
   "cell_type": "code",
   "execution_count": 61,
   "id": "b67ac75d-e63f-498f-8460-70dc24c32de0",
   "metadata": {},
   "outputs": [],
   "source": [
    "# check type of error in traing data\n"
   ]
  },
  {
   "cell_type": "code",
   "execution_count": 62,
   "id": "cf6519a7-2741-4d4d-9ee2-cd25bbfa60a6",
   "metadata": {},
   "outputs": [],
   "source": [
    "import json\n",
    "import tiktoken # for token counting\n",
    "import numpy as np\n",
    "from collections import defaultdict"
   ]
  },
  {
   "cell_type": "code",
   "execution_count": 63,
   "id": "b984e4c9-eb1b-4fcb-9655-9241eec2b9e0",
   "metadata": {},
   "outputs": [
    {
     "name": "stdout",
     "output_type": "stream",
     "text": [
      "No errors found\n"
     ]
    }
   ],
   "source": [
    "# Format error checks\n",
    "format_errors = defaultdict(int)\n",
    "\n",
    "for ex in dataset:\n",
    "    if not isinstance(ex, dict):\n",
    "        format_errors[\"data_type\"] += 1\n",
    "        continue\n",
    "        \n",
    "    messages = ex.get(\"messages\", None)\n",
    "    if not messages:\n",
    "        format_errors[\"missing_messages_list\"] += 1\n",
    "        continue\n",
    "        \n",
    "    for message in messages:\n",
    "        if \"role\" not in message or \"content\" not in message:\n",
    "            format_errors[\"message_missing_key\"] += 1\n",
    "        \n",
    "        if any(k not in (\"role\", \"content\", \"name\", \"function_call\", \"weight\") for k in message):\n",
    "            format_errors[\"message_unrecognized_key\"] += 1\n",
    "        \n",
    "        if message.get(\"role\", None) not in (\"system\", \"user\", \"assistant\", \"function\"):\n",
    "            format_errors[\"unrecognized_role\"] += 1\n",
    "            \n",
    "        content = message.get(\"content\", None)\n",
    "        function_call = message.get(\"function_call\", None)\n",
    "        \n",
    "        if (not content and not function_call) or not isinstance(content, str):\n",
    "            format_errors[\"missing_content\"] += 1\n",
    "    \n",
    "    if not any(message.get(\"role\", None) == \"assistant\" for message in messages):\n",
    "        format_errors[\"example_missing_assistant_message\"] += 1\n",
    "\n",
    "if format_errors:\n",
    "    print(\"Found errors:\")\n",
    "    for k, v in format_errors.items():\n",
    "        print(f\"{k}: {v}\")\n",
    "else:\n",
    "    print(\"No errors found\")"
   ]
  },
  {
   "cell_type": "code",
   "execution_count": null,
   "id": "357b4bff-3800-4fe4-983c-9b7693f44cc2",
   "metadata": {},
   "outputs": [],
   "source": []
  },
  {
   "cell_type": "code",
   "execution_count": null,
   "id": "6199242f-fd1a-41eb-8d57-8252e2ef82f7",
   "metadata": {},
   "outputs": [],
   "source": []
  }
 ],
 "metadata": {
  "kernelspec": {
   "display_name": "Python 3 (ipykernel)",
   "language": "python",
   "name": "python3"
  },
  "language_info": {
   "codemirror_mode": {
    "name": "ipython",
    "version": 3
   },
   "file_extension": ".py",
   "mimetype": "text/x-python",
   "name": "python",
   "nbconvert_exporter": "python",
   "pygments_lexer": "ipython3",
   "version": "3.11.6"
  }
 },
 "nbformat": 4,
 "nbformat_minor": 5
}
